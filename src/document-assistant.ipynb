{
 "cells": [
  {
   "cell_type": "code",
   "execution_count": 1,
   "metadata": {},
   "outputs": [
    {
     "name": "stderr",
     "output_type": "stream",
     "text": [
      "You are using the default legacy behaviour of the <class 'transformers.models.t5.tokenization_t5.T5Tokenizer'>. This is expected, and simply means that the `legacy` (previous) behavior will be used so nothing changes for you. If you want to use the new behaviour, set `legacy=False`. This should only be set if you understand what it means, and thoroughly read the reason why this was added as explained in https://github.com/huggingface/transformers/pull/24565\n"
     ]
    },
    {
     "name": "stdout",
     "output_type": "stream",
     "text": [
      "[DEBUG] Input text: question: What is the warranty period for Product X? context: The warranty period for Product X extends for a full 12 months from the date of purchase, as indicated on your original receipt or invoice. This warranty serves as a guarantee against manufacturing defects, ensuring that the product meets the highest standards of quality and reliability. However, it is important its warranty period and beyond.\n",
      "[DEBUG] Generated answer: 12 months from the date of purchase\n",
      "Query: What is the warranty period for Product X?\n",
      "Context: The warranty period for Product X extends for a full 12 months from the date of purchase, as indicated on your original receipt or invoice. This warranty serves as a guarantee against manufacturing defects, ensuring that the product meets the highest standards of quality and reliability. However, it is important its warranty period and beyond.\n",
      "Generated Answer: 12 months from the date of purchase\n"
     ]
    }
   ],
   "source": [
    "from retriever import Retriever\n",
    "from generator import Generator\n",
    "\n",
    "# Initialize the retriever and generator\n",
    "retriever = Retriever(chunk_size=50)\n",
    "generator = Generator(model_name=\"t5-small\", debug=True)\n",
    "\n",
    "# Load the document\n",
    "document_path = \"../data/sample_doc.txt\"\n",
    "retriever.load_document(document_path)\n",
    "\n",
    "# Query the system\n",
    "query = \"What is the warranty period for Product X?\"\n",
    "top_k = 2\n",
    "retrieved = retriever.retrieve(query, top_k=top_k)\n",
    "\n",
    "# Combine retrieved contexts\n",
    "context = \" \".join([text for text, score in retrieved])\n",
    "\n",
    "# Generate an answer\n",
    "answer = generator.generate(context, query)\n",
    "\n",
    "# Print results\n",
    "print(\"Query:\", query)\n",
    "print(\"Context:\", context)\n",
    "print(\"Generated Answer:\", answer)"
   ]
  }
 ],
 "metadata": {
  "kernelspec": {
   "display_name": "Python 3",
   "language": "python",
   "name": "python3"
  },
  "language_info": {
   "codemirror_mode": {
    "name": "ipython",
    "version": 3
   },
   "file_extension": ".py",
   "mimetype": "text/x-python",
   "name": "python",
   "nbconvert_exporter": "python",
   "pygments_lexer": "ipython3",
   "version": "3.11.0"
  }
 },
 "nbformat": 4,
 "nbformat_minor": 2
}
